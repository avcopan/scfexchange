{
 "cells": [
  {
   "cell_type": "markdown",
   "metadata": {
    "slideshow": {
     "slide_type": "slide"
    }
   },
   "source": [
    "# How to Debug Your New Theory"
   ]
  },
  {
   "cell_type": "markdown",
   "metadata": {
    "slideshow": {
     "slide_type": "subslide"
    }
   },
   "source": [
    "Some helpful strategies:"
   ]
  },
  {
   "cell_type": "markdown",
   "metadata": {
    "slideshow": {
     "slide_type": "fragment"
    }
   },
   "source": [
    "1`.` Get better at programming"
   ]
  },
  {
   "cell_type": "markdown",
   "metadata": {
    "slideshow": {
     "slide_type": "fragment"
    }
   },
   "source": [
    " 2`.` Check your sanity"
   ]
  },
  {
   "cell_type": "markdown",
   "metadata": {
    "slideshow": {
     "slide_type": "fragment"
    }
   },
   "source": [
    "3`.` Pick an easier problem"
   ]
  },
  {
   "cell_type": "markdown",
   "metadata": {
    "slideshow": {
     "slide_type": "slide"
    }
   },
   "source": [
    "  ## 1. Cleaner code"
   ]
  },
  {
   "cell_type": "markdown",
   "metadata": {
    "slideshow": {
     "slide_type": "subslide"
    }
   },
   "source": [
    "Strategy:"
   ]
  },
  {
   "cell_type": "markdown",
   "metadata": {
    "slideshow": {
     "slide_type": "fragment"
    }
   },
   "source": [
    " - Don't reinvent wheels — look for existing libraries"
   ]
  },
  {
   "cell_type": "markdown",
   "metadata": {
    "slideshow": {
     "slide_type": "fragment"
    }
   },
   "source": [
    " - If you write the same 2+ lines of code twice, think about packaging it into a module"
   ]
  },
  {
   "cell_type": "markdown",
   "metadata": {
    "slideshow": {
     "slide_type": "fragment"
    }
   },
   "source": [
    " - The more often you use a module, the more carefully designed it needs to be"
   ]
  },
  {
   "cell_type": "markdown",
   "metadata": {
    "slideshow": {
     "slide_type": "fragment"
    }
   },
   "source": [
    " - Fix design problems early and often"
   ]
  },
  {
   "cell_type": "markdown",
   "metadata": {
    "slideshow": {
     "slide_type": "fragment"
    }
   },
   "source": [
    " - Write **comprehensive** unit tests!"
   ]
  },
  {
   "cell_type": "markdown",
   "metadata": {
    "slideshow": {
     "slide_type": "subslide"
    }
   },
   "source": [
    "### The `scfexchange` module"
   ]
  },
  {
   "cell_type": "code",
   "execution_count": 7,
   "metadata": {
    "collapsed": true,
    "slideshow": {
     "slide_type": "subslide"
    }
   },
   "outputs": [],
   "source": [
    "import numpy as np\n",
    "from scfexchange import Nuclei\n",
    "\n",
    "labels = (\"O\", \"H\", \"H\")\n",
    "coords = np.array([[0.,  0.,  0.],\n",
    "                   [0., -1., -1.],\n",
    "                   [0., +1., -1.]])\n",
    "nuclei = Nuclei(labels, coords)"
   ]
  },
  {
   "cell_type": "code",
   "execution_count": 8,
   "metadata": {
    "slideshow": {
     "slide_type": "fragment"
    }
   },
   "outputs": [
    {
     "data": {
      "text/plain": [
       "Nuclei(\nO     0.0000000000    0.0000000000    0.0000000000\nH     0.0000000000   -1.0000000000   -1.0000000000\nH     0.0000000000    1.0000000000   -1.0000000000\n)"
      ]
     },
     "execution_count": 8,
     "metadata": {},
     "output_type": "execute_result"
    }
   ],
   "source": [
    "nuclei"
   ]
  },
  {
   "cell_type": "code",
   "execution_count": 9,
   "metadata": {
    "slideshow": {
     "slide_type": "fragment"
    }
   },
   "outputs": [
    {
     "data": {
      "text/plain": [
       "array([ 0.        ,  0.        , -0.11191487])"
      ]
     },
     "execution_count": 9,
     "metadata": {},
     "output_type": "execute_result"
    }
   ],
   "source": [
    "nuclei.get_center_of_mass()"
   ]
  },
  {
   "cell_type": "code",
   "execution_count": 10,
   "metadata": {
    "slideshow": {
     "slide_type": "fragment"
    }
   },
   "outputs": [
    {
     "data": {
      "text/plain": [
       "array([ 0.,  0., -2.])"
      ]
     },
     "execution_count": 10,
     "metadata": {},
     "output_type": "execute_result"
    }
   ],
   "source": [
    "nuclei.get_dipole_moment()"
   ]
  },
  {
   "cell_type": "code",
   "execution_count": 11,
   "metadata": {
    "collapsed": true,
    "slideshow": {
     "slide_type": "subslide"
    }
   },
   "outputs": [],
   "source": [
    "from scfexchange import Molecule\n",
    "\n",
    "molecule = Molecule(nuclei, charge=1, multiplicity=2)"
   ]
  },
  {
   "cell_type": "code",
   "execution_count": 12,
   "metadata": {
    "slideshow": {
     "slide_type": "fragment"
    }
   },
   "outputs": [
    {
     "data": {
      "text/plain": [
       "Molecule(charge 1, multiplicity 2, Nuclei(\nO     0.0000000000    0.0000000000    0.0000000000\nH     0.0000000000   -1.0000000000   -1.0000000000\nH     0.0000000000    1.0000000000   -1.0000000000\n))"
      ]
     },
     "execution_count": 12,
     "metadata": {},
     "output_type": "execute_result"
    }
   ],
   "source": [
    "molecule"
   ]
  },
  {
   "cell_type": "code",
   "execution_count": 13,
   "metadata": {
    "slideshow": {
     "slide_type": "fragment"
    }
   },
   "outputs": [
    {
     "data": {
      "text/plain": [
       "5"
      ]
     },
     "execution_count": 13,
     "metadata": {},
     "output_type": "execute_result"
    }
   ],
   "source": [
    "molecule.nalpha"
   ]
  },
  {
   "cell_type": "code",
   "execution_count": 14,
   "metadata": {
    "slideshow": {
     "slide_type": "fragment"
    }
   },
   "outputs": [],
   "source": [
    "molecule.nbeta"
   ]
  },
  {
   "cell_type": "code",
   "execution_count": 15,
   "metadata": {
    "collapsed": true,
    "slideshow": {
     "slide_type": "subslide"
    }
   },
   "outputs": [],
   "source": [
    "from scfexchange.psi4_interface import Integrals\n",
    "\n",
    "integrals = Integrals(nuclei, \"sto-3g\")"
   ]
  },
  {
   "cell_type": "code",
   "execution_count": 16,
   "metadata": {
    "slideshow": {
     "slide_type": "fragment"
    }
   },
   "outputs": [
    {
     "data": {
      "text/plain": [
       "(scfexchange.psi4_interface.Integrals,\n scfexchange.integrals.IntegralsInterface,\n object)"
      ]
     },
     "execution_count": 16,
     "metadata": {},
     "output_type": "execute_result"
    }
   ],
   "source": [
    "import inspect\n",
    "\n",
    "inspect.getmro(Integrals)"
   ]
  },
  {
   "cell_type": "code",
   "execution_count": 17,
   "metadata": {
    "collapsed": true,
    "slideshow": {
     "slide_type": "subslide"
    }
   },
   "outputs": [],
   "source": [
    "v_ao = integrals.get_ao_1e_potential()\n",
    "v_aso = integrals.get_ao_1e_potential(use_spinorbs=True)"
   ]
  },
  {
   "cell_type": "code",
   "execution_count": 18,
   "metadata": {
    "slideshow": {
     "slide_type": "fragment"
    }
   },
   "outputs": [
    {
     "name": "stdout",
     "output_type": "stream",
     "text": [
      "[[-62.  -8.   0.   0.  -0.  -3.  -3.]\n [ -8. -10.   0.   0.   0.  -6.  -6.]\n [  0.   0. -10.   0.   0.   3.   3.]\n [  0.   0.   0. -10.   0.   0.   0.]\n [ -0.   0.   0.   0. -10.   3.  -3.]\n [ -3.  -6.   3.   0.   3.  -7.  -3.]\n [ -3.  -6.   3.   0.  -3.  -3.  -7.]]\n"
     ]
    }
   ],
   "source": [
    "print(v_ao.round(0))"
   ]
  },
  {
   "cell_type": "code",
   "execution_count": 19,
   "metadata": {
    "slideshow": {
     "slide_type": "fragment"
    }
   },
   "outputs": [
    {
     "name": "stdout",
     "output_type": "stream",
     "text": [
      "[[-62.  -8.   0.   0.  -0.  -3.  -3.  -0.  -0.   0.   0.  -0.  -0.  -0.]\n [ -8. -10.   0.   0.   0.  -6.  -6.  -0.  -0.   0.   0.   0.  -0.  -0.]\n [  0.   0. -10.   0.   0.   3.   3.   0.   0.  -0.   0.   0.   0.   0.]\n [  0.   0.   0. -10.   0.   0.   0.   0.   0.   0.  -0.   0.   0.   0.]\n [ -0.   0.   0.   0. -10.   3.  -3.  -0.   0.   0.   0.  -0.   0.  -0.]\n [ -3.  -6.   3.   0.   3.  -7.  -3.  -0.  -0.   0.   0.   0.  -0.  -0.]\n [ -3.  -6.   3.   0.  -3.  -3.  -7.  -0.  -0.   0.   0.  -0.  -0.  -0.]\n [ -0.  -0.   0.   0.  -0.  -0.  -0. -62.  -8.   0.   0.  -0.  -3.  -3.]\n [ -0.  -0.   0.   0.   0.  -0.  -0.  -8. -10.   0.   0.   0.  -6.  -6.]\n [  0.   0.  -0.   0.   0.   0.   0.   0.   0. -10.   0.   0.   3.   3.]\n [  0.   0.   0.  -0.   0.   0.   0.   0.   0.   0. -10.   0.   0.   0.]\n [ -0.   0.   0.   0.  -0.   0.  -0.  -0.   0.   0.   0. -10.   3.  -3.]\n [ -0.  -0.   0.   0.   0.  -0.  -0.  -3.  -6.   3.   0.   3.  -7.  -3.]\n [ -0.  -0.   0.   0.  -0.  -0.  -0.  -3.  -6.   3.   0.  -3.  -3.  -7.]]\n"
     ]
    }
   ],
   "source": [
    "print(v_aso.round(0))"
   ]
  },
  {
   "cell_type": "code",
   "execution_count": 20,
   "metadata": {
    "collapsed": true,
    "slideshow": {
     "slide_type": "subslide"
    }
   },
   "outputs": [],
   "source": [
    "from scfexchange.psi4_interface import Orbitals\n",
    "\n",
    "orbitals = Orbitals(integrals, charge=0, multiplicity=1)"
   ]
  },
  {
   "cell_type": "code",
   "execution_count": 21,
   "metadata": {
    "slideshow": {
     "slide_type": "fragment"
    }
   },
   "outputs": [
    {
     "data": {
      "text/plain": [
       "(scfexchange.psi4_interface.Orbitals,\n scfexchange.orbitals.OrbitalsInterface,\n object)"
      ]
     },
     "execution_count": 21,
     "metadata": {},
     "output_type": "execute_result"
    }
   ],
   "source": [
    "inspect.getmro(Orbitals)"
   ]
  },
  {
   "cell_type": "code",
   "execution_count": 22,
   "metadata": {
    "slideshow": {
     "slide_type": "fragment"
    }
   },
   "outputs": [
    {
     "data": {
      "text/plain": [
       "11.813708498984759"
      ]
     },
     "execution_count": 22,
     "metadata": {},
     "output_type": "execute_result"
    }
   ],
   "source": [
    "orbitals.get_energy()"
   ]
  },
  {
   "cell_type": "code",
   "execution_count": 23,
   "metadata": {
    "slideshow": {
     "slide_type": "fragment"
    }
   },
   "outputs": [
    {
     "data": {
      "text/plain": [
       "11.813708498984759"
      ]
     },
     "execution_count": 23,
     "metadata": {},
     "output_type": "execute_result"
    }
   ],
   "source": [
    "nuclei.get_energy()"
   ]
  },
  {
   "cell_type": "code",
   "execution_count": 24,
   "metadata": {
    "slideshow": {
     "slide_type": "fragment"
    }
   },
   "outputs": [
    {
     "data": {
      "text/plain": [
       "-74.735195833159139"
      ]
     },
     "execution_count": 24,
     "metadata": {},
     "output_type": "execute_result"
    }
   ],
   "source": [
    "orbitals.solve()\n",
    "orbitals.get_energy()"
   ]
  },
  {
   "cell_type": "code",
   "execution_count": 25,
   "metadata": {
    "slideshow": {
     "slide_type": "subslide"
    }
   },
   "outputs": [
    {
     "data": {
      "text/plain": [
       "array([[ 4.6,  1.8,  0. , -0.2,  0. ],\n       [-0. , -0. ,  0.9,  0. , -0. ]])"
      ]
     },
     "execution_count": 25,
     "metadata": {},
     "output_type": "execute_result"
    }
   ],
   "source": [
    "orbitals.get_mo_1e_kinetic(mo_block='v,o', spin_sector='a').round(1)"
   ]
  },
  {
   "cell_type": "code",
   "execution_count": 26,
   "metadata": {
    "slideshow": {
     "slide_type": "fragment"
    }
   },
   "outputs": [
    {
     "data": {
      "text/plain": [
       "array([[ 4.6,  0. ,  1.8,  0. ,  0. ,  0. , -0.2,  0. ,  0. ,  0. ],\n       [ 0. ,  4.6,  0. ,  1.8,  0. ,  0. ,  0. , -0.2,  0. ,  0. ],\n       [-0. ,  0. , -0. ,  0. ,  0.9,  0. ,  0. ,  0. , -0. ,  0. ],\n       [ 0. , -0. ,  0. , -0. ,  0. ,  0.9,  0. ,  0. ,  0. , -0. ]])"
      ]
     },
     "execution_count": 26,
     "metadata": {},
     "output_type": "execute_result"
    }
   ],
   "source": [
    "orbitals.get_mo_1e_kinetic(mo_block='v,o', spin_sector='s').round(1)"
   ]
  },
  {
   "cell_type": "code",
   "execution_count": 27,
   "metadata": {
    "slideshow": {
     "slide_type": "subslide"
    }
   },
   "outputs": [
    {
     "data": {
      "text/plain": [
       "array([[-33.,  -1.,   0.,  -0.,   0.,  -0.,  -0.],\n       [ -1.,  -8.,  -0.,  -0.,   0.,  -2.,   0.],\n       [  0.,  -0.,  -7.,   0.,   0.,  -0.,  -2.],\n       [ -0.,  -0.,   0.,  -7.,  -0.,   1.,  -0.],\n       [  0.,   0.,   0.,  -0.,  -8.,  -0.,   0.],\n       [ -0.,  -2.,  -0.,   1.,  -0.,  -5.,  -0.],\n       [ -0.,   0.,  -2.,  -0.,   0.,  -0.,  -6.]])"
      ]
     },
     "execution_count": 27,
     "metadata": {},
     "output_type": "execute_result"
    }
   ],
   "source": [
    "orbitals.get_mo_1e_core_hamiltonian(spin_sector='a').round(0)"
   ]
  },
  {
   "cell_type": "markdown",
   "metadata": {
    "slideshow": {
     "slide_type": "fragment"
    }
   },
   "source": [
    "Electric field perturbation"
   ]
  },
  {
   "cell_type": "markdown",
   "metadata": {
    "slideshow": {
     "slide_type": "fragment"
    }
   },
   "source": [
    "$$ h_p^q\\mapsto h_p^q - \\boldsymbol{\\mathcal{E}}\\cdot\\boldsymbol{\\mu}_p^q $$"
   ]
  },
  {
   "cell_type": "code",
   "execution_count": 30,
   "metadata": {
    "slideshow": {
     "slide_type": "fragment"
    }
   },
   "outputs": [
    {
     "data": {
      "text/plain": [
       "array([[-30.,  -0.,   0.,  -2.,   0.,   1.,  -0.],\n       [ -0., -20.,  -0.,  17.,  -0.,   6.,  -0.],\n       [  0.,  -0., -15.,  -0.,   0.,   0.,  17.],\n       [ -2.,  17.,  -0.,   5.,  -0., -12.,   0.],\n       [  0.,  -0.,   0.,  -0.,  -4.,   0.,  -0.],\n       [  1.,   6.,   0., -12.,   0., -33.,   0.],\n       [ -0.,  -0.,  17.,   0.,  -0.,   0., -23.]])"
      ]
     },
     "execution_count": 30,
     "metadata": {},
     "output_type": "execute_result"
    }
   ],
   "source": [
    "orbitals.get_mo_1e_core_hamiltonian(electric_field=[0., 0., 30.], spin_sector='a').round(0)"
   ]
  },
  {
   "cell_type": "code",
   "execution_count": 31,
   "metadata": {
    "collapsed": true,
    "slideshow": {
     "slide_type": "subslide"
    }
   },
   "outputs": [],
   "source": [
    "goovv = orbitals.get_mo_2e_repulsion(mo_block='o,o,v,v',\n",
    "                                     antisymmetrize=True)\n",
    "eo = orbitals.get_mo_fock_diagonal(mo_space='o')\n",
    "ev = orbitals.get_mo_fock_diagonal(mo_space='v')"
   ]
  },
  {
   "cell_type": "markdown",
   "metadata": {
    "slideshow": {
     "slide_type": "fragment"
    }
   },
   "source": [
    "$$ t_{ab}^{ij} = \\overline{g}_{ab}^{ij}\\ (\\epsilon_i + \\epsilon_j - \\epsilon_a - \\epsilon_b)^{-1} $$"
   ]
  },
  {
   "cell_type": "code",
   "execution_count": 32,
   "metadata": {
    "collapsed": true,
    "slideshow": {
     "slide_type": "fragment"
    }
   },
   "outputs": [],
   "source": [
    "x = np.newaxis\n",
    "t2 = goovv / (eo[:,x,x,x] + eo[x,:,x,x]\n",
    "              - ev[x,x,:,x] - ev[x,x,x,:])"
   ]
  },
  {
   "cell_type": "markdown",
   "metadata": {
    "slideshow": {
     "slide_type": "fragment"
    }
   },
   "source": [
    "$$ E_\\text{corr} = \\tfrac{1}{4} \\overline{g}_{ij}^{ab} t_{ab}^{ij} $$"
   ]
  },
  {
   "cell_type": "code",
   "execution_count": 33,
   "metadata": {
    "slideshow": {
     "slide_type": "fragment"
    }
   },
   "outputs": [
    {
     "data": {
      "text/plain": [
       "-0.023242220885911075"
      ]
     },
     "execution_count": 33,
     "metadata": {},
     "output_type": "execute_result"
    }
   ],
   "source": [
    "1. / 4 * np.sum(goovv * t2)"
   ]
  },
  {
   "cell_type": "code",
   "execution_count": 34,
   "metadata": {
    "slideshow": {
     "slide_type": "subslide"
    }
   },
   "outputs": [
    {
     "data": {
      "text/plain": [
       "(scfexchange.examples.mp2.MP2Density,\n scfexchange.density.CorrelatedDensityInterface,\n scfexchange.density.DensityInterface,\n object)"
      ]
     },
     "execution_count": 34,
     "metadata": {},
     "output_type": "execute_result"
    }
   ],
   "source": [
    "from scfexchange.examples.mp2 import MP2Density\n",
    "\n",
    "density = MP2Density(orbitals)\n",
    "\n",
    "inspect.getmro(MP2Density)"
   ]
  },
  {
   "cell_type": "code",
   "execution_count": 35,
   "metadata": {
    "slideshow": {
     "slide_type": "fragment"
    }
   },
   "outputs": [
    {
     "data": {
      "text/plain": [
       "-74.735195833159111"
      ]
     },
     "execution_count": 35,
     "metadata": {},
     "output_type": "execute_result"
    }
   ],
   "source": [
    "density.get_energy()"
   ]
  },
  {
   "cell_type": "code",
   "execution_count": 36,
   "metadata": {
    "slideshow": {
     "slide_type": "fragment"
    }
   },
   "outputs": [
    {
     "data": {
      "text/plain": [
       "-74.75843805404503"
      ]
     },
     "execution_count": 36,
     "metadata": {},
     "output_type": "execute_result"
    }
   ],
   "source": [
    "density.solve()\n",
    "density.get_energy()"
   ]
  },
  {
   "cell_type": "code",
   "execution_count": 37,
   "metadata": {
    "slideshow": {
     "slide_type": "subslide"
    }
   },
   "outputs": [
    {
     "data": {
      "text/plain": [
       "-0.023242220885919096"
      ]
     },
     "execution_count": 37,
     "metadata": {},
     "output_type": "execute_result"
    }
   ],
   "source": [
    "density.get_energy() - density.ref.get_energy()"
   ]
  },
  {
   "cell_type": "code",
   "execution_count": 38,
   "metadata": {
    "slideshow": {
     "slide_type": "fragment"
    }
   },
   "outputs": [
    {
     "data": {
      "text/plain": [
       "(scfexchange.density.DeterminantDensity,\n scfexchange.density.DensityInterface,\n object)"
      ]
     },
     "execution_count": 38,
     "metadata": {},
     "output_type": "execute_result"
    }
   ],
   "source": [
    "inspect.getmro(type(density.ref))"
   ]
  },
  {
   "cell_type": "code",
   "execution_count": 39,
   "metadata": {
    "collapsed": true,
    "slideshow": {
     "slide_type": "subslide"
    }
   },
   "outputs": [],
   "source": [
    "h = orbitals.get_mo_1e_core_hamiltonian()\n",
    "g = orbitals.get_mo_2e_repulsion(antisymmetrize=True)\n",
    "e_nuc = nuclei.get_energy()\n",
    "\n",
    "gamma1 = density.get_1e_moment()\n",
    "gamma2 = density.get_2e_moment()"
   ]
  },
  {
   "cell_type": "markdown",
   "metadata": {
    "slideshow": {
     "slide_type": "fragment"
    }
   },
   "source": [
    "$$E = h_p^q \\gamma^p_q + \\tfrac{1}{4} \\overline{g}_{pq}^{rs}\\gamma^{pq}_{rs} + E_\\text{nuc}$$"
   ]
  },
  {
   "cell_type": "code",
   "execution_count": 40,
   "metadata": {
    "slideshow": {
     "slide_type": "fragment"
    }
   },
   "outputs": [
    {
     "data": {
      "text/plain": [
       "-74.75843805404503"
      ]
     },
     "execution_count": 40,
     "metadata": {},
     "output_type": "execute_result"
    }
   ],
   "source": [
    "np.sum(h * gamma1) + 1. / 4 * np.sum(g * gamma2) + e_nuc"
   ]
  },
  {
   "cell_type": "markdown",
   "metadata": {
    "slideshow": {
     "slide_type": "slide"
    }
   },
   "source": [
    "## 2. Sanity checks"
   ]
  },
  {
   "cell_type": "markdown",
   "metadata": {
    "slideshow": {
     "slide_type": "subslide"
    }
   },
   "source": [
    "Strategy:"
   ]
  },
  {
   "cell_type": "markdown",
   "metadata": {
    "slideshow": {
     "slide_type": "fragment"
    }
   },
   "source": [
    " - Weak tests"
   ]
  },
  {
   "cell_type": "markdown",
   "metadata": {
    "slideshow": {
     "slide_type": "fragment"
    }
   },
   "source": [
    "> Should this matrix be symmetric? Positive definite?"
   ]
  },
  {
   "cell_type": "markdown",
   "metadata": {
    "slideshow": {
     "slide_type": "fragment"
    }
   },
   "source": [
    "> Should these eigenvalues have spin symmetry (triples, quintets, etc.)?"
   ]
  },
  {
   "cell_type": "markdown",
   "metadata": {
    "slideshow": {
     "slide_type": "fragment"
    }
   },
   "source": [
    "> Can I drop terms to get Hartree-Fock? MP2?"
   ]
  },
  {
   "cell_type": "markdown",
   "metadata": {
    "slideshow": {
     "slide_type": "subslide"
    }
   },
   "source": [
    " - Strong tests"
   ]
  },
  {
   "cell_type": "markdown",
   "metadata": {
    "slideshow": {
     "slide_type": "fragment"
    }
   },
   "source": [
    "> Can I get the same answer a different way?"
   ]
  },
  {
   "cell_type": "markdown",
   "metadata": {
    "slideshow": {
     "slide_type": "fragment"
    }
   },
   "source": [
    "> The holy grail: numerical tests"
   ]
  },
  {
   "cell_type": "markdown",
   "metadata": {
    "slideshow": {
     "slide_type": "subslide"
    }
   },
   "source": [
    "### The Hellmann-Feynman theorem"
   ]
  },
  {
   "cell_type": "markdown",
   "metadata": {
    "slideshow": {
     "slide_type": "subslide"
    }
   },
   "source": [
    "$$ E(\\mathcal{E}) = \\langle \\Psi | H(\\mathcal{E}) | \\Psi \\rangle $$"
   ]
  },
  {
   "cell_type": "markdown",
   "metadata": {
    "slideshow": {
     "slide_type": "fragment"
    }
   },
   "source": [
    "$$ \\frac{\\partial E(\\mathcal{E})}{\\partial \\mathcal{E}} = \\langle \\tfrac{\\partial\\Psi}{\\partial \\mathcal{E}} | H(\\mathcal{E}) | \\Psi\\rangle + \\langle \\Psi | \\frac{\\partial H(\\mathcal{E})}{\\partial \\mathcal{E}} | \\Psi\\rangle + \\langle \\Psi | H(\\mathcal{E}) | \\tfrac{\\partial\\Psi}{\\partial \\mathcal{E}}\\rangle $$"
   ]
  },
  {
   "cell_type": "markdown",
   "metadata": {
    "slideshow": {
     "slide_type": "fragment"
    }
   },
   "source": [
    "Hellmann-Feynman theorem says that"
   ]
  },
  {
   "cell_type": "markdown",
   "metadata": {
    "slideshow": {
     "slide_type": "fragment"
    }
   },
   "source": [
    "$$ \\frac{\\partial E(\\mathcal{E})}{\\partial \\mathcal{E}} = \\langle \\Psi | \\frac{\\partial H(\\mathcal{E})}{\\partial \\mathcal{E}} | \\Psi\\rangle $$"
   ]
  },
  {
   "cell_type": "markdown",
   "metadata": {
    "slideshow": {
     "slide_type": "fragment"
    }
   },
   "source": [
    "for an exact $\\Psi$"
   ]
  },
  {
   "cell_type": "markdown",
   "metadata": {
    "slideshow": {
     "slide_type": "fragment"
    }
   },
   "source": [
    "**or** an approximate one that is stationary!"
   ]
  },
  {
   "cell_type": "markdown",
   "metadata": {
    "slideshow": {
     "slide_type": "subslide"
    }
   },
   "source": [
    "Therefore, we can calculate the electric dipole moment as follows."
   ]
  },
  {
   "cell_type": "markdown",
   "metadata": {
    "slideshow": {
     "slide_type": "fragment"
    }
   },
   "source": [
    "$$ H(\\boldsymbol{\\mathcal{E}}) = H_\\text{elec} - \\boldsymbol{\\mu} \\cdot \\boldsymbol{\\mathcal{E}} $$"
   ]
  },
  {
   "cell_type": "markdown",
   "metadata": {
    "slideshow": {
     "slide_type": "fragment"
    }
   },
   "source": [
    "$$ \\langle \\Psi|\\boldsymbol{\\mu}|\\Psi \\rangle = - \\langle \\Psi | \\dfrac{\\partial H(\\boldsymbol{\\mathcal{E}})}{\\partial \\boldsymbol{\\mathcal{E}}} | \\Psi\\rangle = - \\dfrac{\\partial E(\\boldsymbol{\\mathcal{E}})}{\\partial \\boldsymbol{\\mathcal{E}}} $$"
   ]
  },
  {
   "cell_type": "markdown",
   "metadata": {
    "slideshow": {
     "slide_type": "subslide"
    }
   },
   "source": [
    "$\\langle\\Psi|\\boldsymbol{\\mu}|\\Psi\\rangle$ can be evaluated analytically"
   ]
  },
  {
   "cell_type": "markdown",
   "metadata": {
    "slideshow": {
     "slide_type": "fragment"
    }
   },
   "source": [
    "$\\dfrac{\\partial E(\\boldsymbol{\\mathcal{E}})}{\\partial \\boldsymbol{\\mathcal{E}}}$\n",
    "can be evaluated numerically"
   ]
  },
  {
   "cell_type": "markdown",
   "metadata": {
    "slideshow": {
     "slide_type": "fragment"
    }
   },
   "source": [
    "$$ \\dfrac{\\partial E(\\boldsymbol{\\mathcal{E}})}{\\partial \\boldsymbol{\\mathcal{E}}} = \\lim_{\\delta\\boldsymbol{\\mathcal{E}}\\rightarrow0} \\dfrac{E(\\boldsymbol{\\mathcal{E}} + \\delta\\boldsymbol{\\mathcal{E}}) - E(\\boldsymbol{\\mathcal{E}} - \\delta\\boldsymbol{\\mathcal{E}})}{2\\|\\delta\\boldsymbol{\\mathcal{E}}\\|} $$"
   ]
  },
  {
   "cell_type": "markdown",
   "metadata": {
    "slideshow": {
     "slide_type": "subslide"
    }
   },
   "source": [
    "If\n",
    "$ \\langle\\Psi|\\boldsymbol{\\mu}|\\Psi\\rangle \\not= - \\dfrac{\\partial E(\\boldsymbol{\\mathcal{E}})}{\\partial \\boldsymbol{\\mathcal{E}}} $,\n",
    "your code is wrong."
   ]
  },
  {
   "cell_type": "markdown",
   "metadata": {
    "slideshow": {
     "slide_type": "fragment"
    }
   },
   "source": [
    "If they *are* equal, it's **probably right**!"
   ]
  },
  {
   "cell_type": "markdown",
   "metadata": {
    "slideshow": {
     "slide_type": "subslide"
    }
   },
   "source": [
    "### analytic $\\langle\\Psi|\\boldsymbol{\\mu}|\\Psi\\rangle$"
   ]
  },
  {
   "cell_type": "code",
   "execution_count": 41,
   "metadata": {
    "collapsed": true,
    "slideshow": {
     "slide_type": "subslide"
    }
   },
   "outputs": [],
   "source": [
    "from scfexchange import DeterminantDensity\n",
    "\n",
    "density = DeterminantDensity(orbitals)"
   ]
  },
  {
   "cell_type": "code",
   "execution_count": 42,
   "metadata": {
    "collapsed": true,
    "slideshow": {
     "slide_type": "fragment"
    }
   },
   "outputs": [],
   "source": [
    "d = orbitals.get_mo_1e_dipole()\n",
    "\n",
    "gamma1 = density.get_1e_moment()"
   ]
  },
  {
   "cell_type": "markdown",
   "metadata": {
    "slideshow": {
     "slide_type": "fragment"
    }
   },
   "source": [
    "$$ \\langle\\Psi|\\boldsymbol{\\mu}|\\Psi\\rangle = \\boldsymbol{\\mu}_p^q \\gamma^p_q $$"
   ]
  },
  {
   "cell_type": "code",
   "execution_count": 43,
   "metadata": {
    "collapsed": true,
    "slideshow": {
     "slide_type": "fragment"
    }
   },
   "outputs": [],
   "source": [
    "mu = np.array([np.sum(d_x * gamma1) for d_x in d])"
   ]
  },
  {
   "cell_type": "code",
   "execution_count": 44,
   "metadata": {
    "slideshow": {
     "slide_type": "fragment"
    }
   },
   "outputs": [
    {
     "data": {
      "text/plain": [
       "array([ 0.        ,  0.        ,  0.04607383])"
      ]
     },
     "execution_count": 44,
     "metadata": {},
     "output_type": "execute_result"
    }
   ],
   "source": [
    "mu.round(9)"
   ]
  },
  {
   "cell_type": "code",
   "execution_count": 45,
   "metadata": {
    "slideshow": {
     "slide_type": "fragment"
    }
   },
   "outputs": [
    {
     "data": {
      "text/plain": [
       "array([ 0.        ,  0.        ,  0.04607383])"
      ]
     },
     "execution_count": 45,
     "metadata": {},
     "output_type": "execute_result"
    }
   ],
   "source": [
    "density.get_dipole_moment().round(9)"
   ]
  },
  {
   "cell_type": "markdown",
   "metadata": {
    "slideshow": {
     "slide_type": "subslide"
    }
   },
   "source": [
    "### interlude: my $\\boldsymbol{\\mathcal{E}}$-perturbed Hartree-Fock code"
   ]
  },
  {
   "cell_type": "code",
   "execution_count": 46,
   "metadata": {
    "collapsed": true,
    "slideshow": {
     "slide_type": "subslide"
    }
   },
   "outputs": [],
   "source": [
    "from scfexchange.examples.phf import PerturbedHartreeFock\n",
    "\n",
    "phf = PerturbedHartreeFock(integrals)"
   ]
  },
  {
   "cell_type": "code",
   "execution_count": 47,
   "metadata": {
    "slideshow": {
     "slide_type": "fragment"
    }
   },
   "outputs": [
    {
     "data": {
      "text/plain": [
       "(scfexchange.examples.phf.PerturbedHartreeFock,\n scfexchange.orbitals.OrbitalsInterface,\n object)"
      ]
     },
     "execution_count": 47,
     "metadata": {},
     "output_type": "execute_result"
    }
   ],
   "source": [
    "inspect.getmro(PerturbedHartreeFock)"
   ]
  },
  {
   "cell_type": "code",
   "execution_count": 48,
   "metadata": {
    "slideshow": {
     "slide_type": "fragment"
    }
   },
   "outputs": [
    {
     "name": "stdout",
     "output_type": "stream",
     "text": [
      "E= -74.735195833159281 ( 16 iterations, dE:   0e+00, orb grad: 8.5e-09)\n"
     ]
    }
   ],
   "source": [
    "phf.solve()"
   ]
  },
  {
   "cell_type": "code",
   "execution_count": 49,
   "metadata": {
    "slideshow": {
     "slide_type": "fragment"
    }
   },
   "outputs": [
    {
     "name": "stdout",
     "output_type": "stream",
     "text": [
      "E= -76.254667763944724 ( 17 iterations, dE:   6e-14, orb grad: 4.6e-09)\n"
     ]
    }
   ],
   "source": [
    "phf.solve(electric_field=[0., 0., 1.])"
   ]
  },
  {
   "cell_type": "code",
   "execution_count": 50,
   "metadata": {
    "slideshow": {
     "slide_type": "fragment"
    }
   },
   "outputs": [
    {
     "data": {
      "text/plain": [
       "-76.254667763944724"
      ]
     },
     "execution_count": 50,
     "metadata": {},
     "output_type": "execute_result"
    }
   ],
   "source": [
    "phf.get_energy(electric_field=[0., 0., 1.])"
   ]
  },
  {
   "cell_type": "code",
   "execution_count": 51,
   "metadata": {
    "slideshow": {
     "slide_type": "fragment"
    }
   },
   "outputs": [
    {
     "data": {
      "text/plain": [
       "-72.868301996487588"
      ]
     },
     "execution_count": 51,
     "metadata": {},
     "output_type": "execute_result"
    }
   ],
   "source": [
    "phf.get_energy()"
   ]
  },
  {
   "cell_type": "code",
   "execution_count": 52,
   "metadata": {
    "collapsed": true,
    "slideshow": {
     "slide_type": "subslide"
    }
   },
   "outputs": [],
   "source": [
    "energy_fn = phf.get_energy_field_function(e_threshold=1e-13, d_threshold=1e-12)"
   ]
  },
  {
   "cell_type": "code",
   "execution_count": 53,
   "metadata": {
    "slideshow": {
     "slide_type": "fragment"
    }
   },
   "outputs": [
    {
     "name": "stdout",
     "output_type": "stream",
     "text": [
      "E= -76.254667763944695 (  8 iterations, dE:   0e+00, orb grad: 7.9e-13)\n"
     ]
    },
    {
     "data": {
      "text/plain": [
       "-76.254667763944695"
      ]
     },
     "execution_count": 53,
     "metadata": {},
     "output_type": "execute_result"
    }
   ],
   "source": [
    "energy_fn([0., 0., 1])"
   ]
  },
  {
   "cell_type": "code",
   "execution_count": 69,
   "metadata": {
    "slideshow": {
     "slide_type": "fragment"
    }
   },
   "outputs": [
    {
     "name": "stdout",
     "output_type": "stream",
     "text": [
      "E= -74.735195833159310 ( 20 iterations, dE:   0e+00, orb grad: 7.9e-13)\n"
     ]
    },
    {
     "data": {
      "text/plain": [
       "-74.73519583315931"
      ]
     },
     "execution_count": 69,
     "metadata": {},
     "output_type": "execute_result"
    }
   ],
   "source": [
    "energy_fn([0., 0., 0.])"
   ]
  },
  {
   "cell_type": "markdown",
   "metadata": {
    "slideshow": {
     "slide_type": "subslide"
    }
   },
   "source": [
    "### numerical $\\dfrac{\\underline{\\partial E(\\boldsymbol{\\mathcal{E}})}}{\\partial \\boldsymbol{\\mathcal{E}}}$"
   ]
  },
  {
   "cell_type": "code",
   "execution_count": 55,
   "metadata": {
    "slideshow": {
     "slide_type": "subslide"
    }
   },
   "outputs": [
    {
     "name": "stdout",
     "output_type": "stream",
     "text": [
      "E= -74.735195833159281 (  1 iterations, dE:   0e+00, orb grad: 9.1e-14)\nE= -74.735196013366647 ( 20 iterations, dE:   3e-14, orb grad: 5.0e-13)\nE= -74.735196013366618 ( 20 iterations, dE:   0e+00, orb grad: 9.9e-13)\nE= -74.735224948259145 ( 20 iterations, dE:   0e+00, orb grad: 5.0e-13)\nE= -74.735224948259173 ( 18 iterations, dE:   3e-14, orb grad: 3.4e-13)\nE= -74.735446619284119 ( 20 iterations, dE:   0e+00, orb grad: 8.7e-13)\nE= -74.734985790464435 ( 21 iterations, dE:   3e-14, orb grad: 5.4e-13)\n"
     ]
    }
   ],
   "source": [
    "import numdifftools as ndt\n",
    "\n",
    "grad_fn = ndt.Gradient(energy_fn, step=0.005)\n",
    "\n",
    "grad = grad_fn(np.r_[0., 0., 0.])"
   ]
  },
  {
   "cell_type": "code",
   "execution_count": 56,
   "metadata": {
    "slideshow": {
     "slide_type": "fragment"
    }
   },
   "outputs": [
    {
     "data": {
      "text/plain": [
       "array([-0.        ,  0.        , -0.04608288])"
      ]
     },
     "execution_count": 56,
     "metadata": {},
     "output_type": "execute_result"
    }
   ],
   "source": [
    "grad.round(9)"
   ]
  },
  {
   "cell_type": "code",
   "execution_count": 57,
   "metadata": {
    "slideshow": {
     "slide_type": "fragment"
    }
   },
   "outputs": [
    {
     "data": {
      "text/plain": [
       "array([ 0.        ,  0.        ,  0.04607383])"
      ]
     },
     "execution_count": 57,
     "metadata": {},
     "output_type": "execute_result"
    }
   ],
   "source": [
    "mu.round(9)"
   ]
  },
  {
   "cell_type": "code",
   "execution_count": 58,
   "metadata": {
    "slideshow": {
     "slide_type": "subslide"
    }
   },
   "outputs": [
    {
     "name": "stdout",
     "output_type": "stream",
     "text": [
      "E= -74.735195833159310 ( 20 iterations, dE:   3e-14, orb grad: 7.9e-13)\nE= -74.735196554005682 ( 20 iterations, dE:   0e+00, orb grad: 9.9e-13)\nE= -74.735196554005711 ( 21 iterations, dE:   6e-14, orb grad: 7.5e-13)\nE= -74.735312294887763 ( 21 iterations, dE:   0e+00, orb grad: 4.0e-13)\nE= -74.735312294887706 ( 18 iterations, dE:   6e-14, orb grad: 7.4e-13)\nE= -74.735738422409440 ( 21 iterations, dE:   0e+00, orb grad: 6.9e-13)\nE= -74.734816221871824 ( 21 iterations, dE:   0e+00, orb grad: 1.0e-12)\nE= -74.735196013366590 ( 21 iterations, dE:   3e-14, orb grad: 5.9e-13)\nE= -74.735196013366618 ( 20 iterations, dE:   3e-14, orb grad: 9.9e-13)\nE= -74.735224948259173 ( 20 iterations, dE:   6e-14, orb grad: 5.0e-13)\n"
     ]
    },
    {
     "name": "stdout",
     "output_type": "stream",
     "text": [
      "E= -74.735224948259145 ( 18 iterations, dE:   0e+00, orb grad: 3.3e-13)\nE= -74.735446619284090 ( 20 iterations, dE:   0e+00, orb grad: 8.6e-13)\nE= -74.734985790464435 ( 21 iterations, dE:   3e-14, orb grad: 5.4e-13)\n"
     ]
    }
   ],
   "source": [
    "grad_fn = ndt.Gradient(energy_fn, step=0.005, order=4)\n",
    "\n",
    "grad = grad_fn(np.r_[0., 0., 0.])"
   ]
  },
  {
   "cell_type": "code",
   "execution_count": 59,
   "metadata": {
    "slideshow": {
     "slide_type": "fragment"
    }
   },
   "outputs": [],
   "source": [
    "grad.round(9)"
   ]
  },
  {
   "cell_type": "code",
   "execution_count": 60,
   "metadata": {
    "slideshow": {
     "slide_type": "fragment"
    }
   },
   "outputs": [
    {
     "data": {
      "text/plain": [
       "array([ 0.        ,  0.        ,  0.04607383])"
      ]
     },
     "execution_count": 60,
     "metadata": {},
     "output_type": "execute_result"
    }
   ],
   "source": [
    "mu.round(9)"
   ]
  },
  {
   "cell_type": "markdown",
   "metadata": {
    "slideshow": {
     "slide_type": "subslide"
    }
   },
   "source": [
    "Hellmann-Feynman works for single-point energies."
   ]
  },
  {
   "cell_type": "markdown",
   "metadata": {
    "slideshow": {
     "slide_type": "fragment"
    }
   },
   "source": [
    "But it has consequences that affect other properties!"
   ]
  },
  {
   "cell_type": "markdown",
   "metadata": {
    "slideshow": {
     "slide_type": "subslide"
    }
   },
   "source": [
    "### Testing linear-response codes"
   ]
  },
  {
   "cell_type": "markdown",
   "metadata": {
    "slideshow": {
     "slide_type": "subslide"
    }
   },
   "source": [
    "Static dipole polarizability"
   ]
  },
  {
   "cell_type": "markdown",
   "metadata": {
    "slideshow": {
     "slide_type": "fragment"
    }
   },
   "source": [
    "$$ \\boldsymbol{\\alpha} = \\langle\\langle \\boldsymbol{\\mu}; \\boldsymbol{\\mu} \\rangle\\rangle_{\\omega=0} = \\dfrac{\\partial^2 E(\\boldsymbol{\\mathcal{E}}) }{ \\partial \\boldsymbol{\\mathcal{E}}\\,\\partial \\boldsymbol{\\mathcal{E}}} $$"
   ]
  },
  {
   "cell_type": "markdown",
   "metadata": {
    "slideshow": {
     "slide_type": "fragment"
    }
   },
   "source": [
    "Analytically:"
   ]
  },
  {
   "cell_type": "markdown",
   "metadata": {
    "slideshow": {
     "slide_type": "fragment"
    }
   },
   "source": [
    "$$ \\langle\\langle \\boldsymbol{\\mu}; \\boldsymbol{\\mu} \\rangle\\rangle_{\\omega=0} = \\boldsymbol{r}^\\dagger \\mathbf{T}_\\mu + \\mathbf{T}_\\mu^\\dagger\\,\\boldsymbol{r} + \\boldsymbol{r}^\\dagger \\mathbf{E}\\,\\boldsymbol{r} $$"
   ]
  },
  {
   "cell_type": "markdown",
   "metadata": {
    "slideshow": {
     "slide_type": "fragment"
    }
   },
   "source": [
    "$$ = - \\mathbf{T}_\\mu^\\dagger\\mathbf{E}^{-1}\\mathbf{T}_\\mu \\hspace{20pt} \\text{(via H.F. thm.)} $$"
   ]
  },
  {
   "cell_type": "markdown",
   "metadata": {
    "slideshow": {
     "slide_type": "subslide"
    }
   },
   "source": [
    "### analytic $\\langle\\langle \\boldsymbol{\\mu}; \\boldsymbol{\\mu} \\rangle\\rangle_{\\omega=0}$"
   ]
  },
  {
   "cell_type": "code",
   "execution_count": 61,
   "metadata": {
    "collapsed": true,
    "slideshow": {
     "slide_type": "subslide"
    }
   },
   "outputs": [],
   "source": [
    "from scfexchange.examples.rpa import RPA\n",
    "\n",
    "rpa = RPA(orbitals)"
   ]
  },
  {
   "cell_type": "code",
   "execution_count": 62,
   "metadata": {
    "collapsed": true,
    "slideshow": {
     "slide_type": "fragment"
    }
   },
   "outputs": [],
   "source": [
    "a = rpa.get_a_matrix()\n",
    "b = rpa.get_b_matrix()\n",
    "d = rpa.get_dipole_gradient_matrix()\n",
    "e = np.bmat([[a, b], [b, a]])\n",
    "t = np.bmat([[d], [d]])"
   ]
  },
  {
   "cell_type": "markdown",
   "metadata": {
    "slideshow": {
     "slide_type": "fragment"
    }
   },
   "source": [
    "$$ \\langle\\langle \\boldsymbol{\\mu}; \\boldsymbol{\\mu} \\rangle\\rangle_{\\omega=0} = - \\mathbf{T}_\\mu^\\dagger \\mathbf{E}^{-1}\\mathbf{T}_\\mu $$"
   ]
  },
  {
   "cell_type": "code",
   "execution_count": 63,
   "metadata": {
    "collapsed": true,
    "slideshow": {
     "slide_type": "fragment"
    }
   },
   "outputs": [],
   "source": [
    "import scipy.linalg as spla\n",
    "\n",
    "alpha = - t.T.dot(spla.inv(e).dot(t))"
   ]
  },
  {
   "cell_type": "code",
   "execution_count": 64,
   "metadata": {
    "scrolled": true,
    "slideshow": {
     "slide_type": "fragment"
    }
   },
   "outputs": [
    {
     "data": {
      "text/plain": [
       "array([[-0.01441647, -0.        , -0.        ],\n       [-0.        , -2.32919913, -0.        ],\n       [-0.        , -0.        , -1.62972306]])"
      ]
     },
     "execution_count": 64,
     "metadata": {},
     "output_type": "execute_result"
    }
   ],
   "source": [
    "alpha.round(9)"
   ]
  },
  {
   "cell_type": "markdown",
   "metadata": {
    "slideshow": {
     "slide_type": "subslide"
    }
   },
   "source": [
    "### numerical $\\dfrac{\\underline{\\partial^2 E(\\boldsymbol{\\mathcal{E}})}}{\\partial \\boldsymbol{\\mathcal{E}}\\partial \\boldsymbol{\\mathcal{E}}}$"
   ]
  },
  {
   "cell_type": "code",
   "execution_count": 70,
   "metadata": {
    "slideshow": {
     "slide_type": "subslide"
    }
   },
   "outputs": [
    {
     "name": "stdout",
     "output_type": "stream",
     "text": [
      "E= -74.735195833159281 (  1 iterations, dE:   0e+00, orb grad: 1.1e-13)\nE= -74.735196554005711 ( 20 iterations, dE:   3e-14, orb grad: 9.9e-13)\nE= -74.735196554005682 ( 21 iterations, dE:   3e-14, orb grad: 7.5e-13)\nE= -74.735225128431040 ( 21 iterations, dE:   0e+00, orb grad: 5.7e-13)\nE= -74.735225128431068 ( 18 iterations, dE:   0e+00, orb grad: 3.4e-13)\nE= -74.735225128431068 ( 21 iterations, dE:   3e-14, orb grad: 3.8e-13)\nE= -74.735225128431040 ( 18 iterations, dE:   0e+00, orb grad: 3.5e-13)\nE= -74.735446798686979 ( 21 iterations, dE:   3e-14, orb grad: 5.0e-13)\n"
     ]
    },
    {
     "name": "stdout",
     "output_type": "stream",
     "text": [
      "E= -74.734985971416847 ( 21 iterations, dE:   6e-14, orb grad: 5.4e-13)\nE= -74.735446798687008 ( 21 iterations, dE:   3e-14, orb grad: 7.4e-13)\nE= -74.734985971416876 ( 21 iterations, dE:   0e+00, orb grad: 5.4e-13)\nE= -74.735312294887763 ( 20 iterations, dE:   3e-14, orb grad: 9.9e-13)\nE= -74.735312294887734 ( 18 iterations, dE:   3e-14, orb grad: 7.4e-13)\nE= -74.735475934889820 ( 20 iterations, dE:   0e+00, orb grad: 8.8e-13)\nE= -74.735014706434669 ( 21 iterations, dE:   0e+00, orb grad: 5.4e-13)\nE= -74.735475934889820 ( 21 iterations, dE:   0e+00, orb grad: 6.4e-13)\n"
     ]
    },
    {
     "name": "stdout",
     "output_type": "stream",
     "text": [
      "E= -74.735014706434669 ( 21 iterations, dE:   3e-14, orb grad: 5.4e-13)\nE= -74.735738422409440 ( 22 iterations, dE:   3e-14, orb grad: 3.8e-13)\nE= -74.734816221871824 ( 21 iterations, dE:   0e+00, orb grad: 1.0e-12)\n"
     ]
    }
   ],
   "source": [
    "hess_fn = ndt.Hessian(energy_fn, step=0.005)\n",
    "\n",
    "hess = hess_fn(np.r_[0., 0., 0.])"
   ]
  },
  {
   "cell_type": "code",
   "execution_count": 66,
   "metadata": {
    "slideshow": {
     "slide_type": "subslide"
    }
   },
   "outputs": [
    {
     "data": {
      "text/plain": [
       "array([[-0.01441693,  0.        ,  0.        ],\n       [ 0.        , -2.32923457,  0.        ],\n       [ 0.        ,  0.        , -1.62977963]])"
      ]
     },
     "execution_count": 66,
     "metadata": {},
     "output_type": "execute_result"
    }
   ],
   "source": [
    "hess.round(9)"
   ]
  },
  {
   "cell_type": "code",
   "execution_count": 67,
   "metadata": {
    "slideshow": {
     "slide_type": "fragment"
    }
   },
   "outputs": [
    {
     "data": {
      "text/plain": [
       "array([[-0.01441647, -0.        , -0.        ],\n       [-0.        , -2.32919913, -0.        ],\n       [-0.        , -0.        , -1.62972306]])"
      ]
     },
     "execution_count": 67,
     "metadata": {},
     "output_type": "execute_result"
    }
   ],
   "source": [
    "alpha.round(9)"
   ]
  },
  {
   "cell_type": "code",
   "execution_count": 68,
   "metadata": {
    "slideshow": {
     "slide_type": "subslide"
    }
   },
   "outputs": [
    {
     "name": "stdout",
     "output_type": "stream",
     "text": [
      "E= -74.735195833159310 ( 21 iterations, dE:   0e+00, orb grad: 5.7e-13)\nE= -74.735197014217761 ( 21 iterations, dE:   3e-14, orb grad: 4.8e-13)\nE= -74.735197014217789 ( 21 iterations, dE:   3e-14, orb grad: 9.6e-13)\nE= -74.735386645908278 ( 21 iterations, dE:   0e+00, orb grad: 5.4e-13)\nE= -74.735386645908306 ( 19 iterations, dE:   0e+00, orb grad: 3.3e-13)\nE= -74.735919851798940 ( 21 iterations, dE:   0e+00, orb grad: 9.2e-13)\nE= -74.734738843531403 ( 22 iterations, dE:   3e-14, orb grad: 4.5e-13)\nE= -74.735196294495779 ( 21 iterations, dE:   3e-14, orb grad: 7.7e-13)\nE= -74.735196294495779 ( 21 iterations, dE:   0e+00, orb grad: 6.0e-13)\n"
     ]
    },
    {
     "name": "stdout",
     "output_type": "stream",
     "text": [
      "E= -74.735270368257289 ( 20 iterations, dE:   3e-14, orb grad: 8.3e-13)\nE= -74.735270368257261 ( 18 iterations, dE:   0e+00, orb grad: 5.6e-13)\nE= -74.735616761430634 ( 21 iterations, dE:   3e-14, orb grad: 5.3e-13)\nE= -74.734879209480653 ( 21 iterations, dE:   0e+00, orb grad: 8.3e-13)\nE= -74.735196013366618 ( 21 iterations, dE:   0e+00, orb grad: 4.9e-13)\nE= -74.735196013366647 ( 20 iterations, dE:   0e+00, orb grad: 9.9e-13)\nE= -74.735224948259173 ( 20 iterations, dE:   0e+00, orb grad: 5.0e-13)\nE= -74.735224948259173 ( 18 iterations, dE:   3e-14, orb grad: 3.3e-13)\nE= -74.735446619284090 ( 20 iterations, dE:   3e-14, orb grad: 8.6e-13)\n"
     ]
    },
    {
     "name": "stdout",
     "output_type": "stream",
     "text": [
      "E= -74.734985790464435 ( 21 iterations, dE:   3e-14, orb grad: 5.4e-13)\n"
     ]
    }
   ],
   "source": [
    "hess_diag_fn = ndt.Hessdiag(energy_fn, step=0.005, order=6)\n",
    "\n",
    "hess_diag = hess_diag_fn(np.r_[0., 0., 0.])"
   ]
  },
  {
   "cell_type": "code",
   "execution_count": 71,
   "metadata": {
    "slideshow": {
     "slide_type": "subslide"
    }
   },
   "outputs": [],
   "source": [
    "hess_diag.round(9)"
   ]
  },
  {
   "cell_type": "code",
   "execution_count": 74,
   "metadata": {
    "slideshow": {
     "slide_type": "fragment"
    }
   },
   "outputs": [
    {
     "data": {
      "text/plain": [
       "array([[-0.01441647, -2.32919913, -1.62972306]])"
      ]
     },
     "execution_count": 74,
     "metadata": {},
     "output_type": "execute_result"
    }
   ],
   "source": [
    "alpha.diagonal().round(9)"
   ]
  },
  {
   "cell_type": "markdown",
   "metadata": {
    "collapsed": true,
    "slideshow": {
     "slide_type": "subslide"
    }
   },
   "source": [
    "# $$ \\boldsymbol{{\\mathscr{F}}\\hspace{-1pt}{\\mathit{in.}}} $$"
   ]
  }
 ],
 "metadata": {
  "celltoolbar": "Slideshow",
  "kernelspec": {
   "display_name": "Python 3",
   "language": "python",
   "name": "python3"
  },
  "language_info": {
   "codemirror_mode": {
    "name": "ipython",
    "version": 3.0
   },
   "file_extension": ".py",
   "mimetype": "text/x-python",
   "name": "python",
   "nbconvert_exporter": "python",
   "pygments_lexer": "ipython3",
   "version": "3.5.3"
  }
 },
 "nbformat": 4,
 "nbformat_minor": 0
}